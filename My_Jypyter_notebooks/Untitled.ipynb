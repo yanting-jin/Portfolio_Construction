{
 "cells": [
  {
   "cell_type": "code",
   "execution_count": 3,
   "id": "broad-eclipse",
   "metadata": {},
   "outputs": [
    {
     "name": "stdout",
     "output_type": "stream",
     "text": [
      "Nitrogen atom energy:  5.10 eV\n",
      "Nitrogen molecule energy:  0.44 eV\n",
      "Atomization energy:  9.76 eV\n"
     ]
    }
   ],
   "source": [
    "from ase import Atoms\n",
    "from ase.calculators.emt import EMT\n",
    "\n",
    "atom = Atoms('N')\n",
    "atom.calc = EMT()\n",
    "e_atom = atom.get_potential_energy()\n",
    "\n",
    "d = 1.1\n",
    "molecule = Atoms('2N', [(0., 0., 0.), (0., 0., d)])\n",
    "molecule.calc = EMT()\n",
    "e_molecule = molecule.get_potential_energy()\n",
    "\n",
    "e_atomization = e_molecule - 2 * e_atom\n",
    "\n",
    "print('Nitrogen atom energy: %5.2f eV' % e_atom)\n",
    "print('Nitrogen molecule energy: %5.2f eV' % e_molecule)\n",
    "print('Atomization energy: %5.2f eV' % -e_atomization)\n"
   ]
  },
  {
   "cell_type": "code",
   "execution_count": 2,
   "id": "isolated-sculpture",
   "metadata": {},
   "outputs": [
    {
     "name": "stdout",
     "output_type": "stream",
     "text": [
      "['/Users/Jinyanting/Documents/GitHub/PortfolioConstruction/My_Jypyter_notebooks', '/Users/Jinyanting/opt/anaconda3/envs/gynet/lib/python37.zip', '/Users/Jinyanting/opt/anaconda3/envs/gynet/lib/python3.7', '/Users/Jinyanting/opt/anaconda3/envs/gynet/lib/python3.7/lib-dynload', '', '/Users/Jinyanting/opt/anaconda3/envs/gynet/lib/python3.7/site-packages', '/Users/Jinyanting/opt/anaconda3/envs/gynet/lib/python3.7/site-packages/IPython/extensions', '/Users/Jinyanting/.ipython']\n"
     ]
    }
   ],
   "source": []
  },
  {
   "cell_type": "code",
   "execution_count": 2,
   "id": "quick-recovery",
   "metadata": {},
   "outputs": [
    {
     "data": {
      "text/plain": [
       "['/Users/Jinyanting/Documents/GitHub/PortfolioConstruction/My_Jypyter_notebooks',\n",
       " '/Users/Jinyanting/opt/anaconda3/lib/python38.zip',\n",
       " '/Users/Jinyanting/opt/anaconda3/lib/python3.8',\n",
       " '/Users/Jinyanting/opt/anaconda3/lib/python3.8/lib-dynload',\n",
       " '',\n",
       " '/Users/Jinyanting/.local/lib/python3.8/site-packages',\n",
       " '/Users/Jinyanting/.local/lib/python3.8/site-packages/Magres_format-0.9-py3.8.egg',\n",
       " '/Users/Jinyanting/opt/anaconda3/lib/python3.8/site-packages',\n",
       " '/Users/Jinyanting/opt/anaconda3/lib/python3.8/site-packages/aeosa',\n",
       " '/Users/Jinyanting/opt/anaconda3/lib/python3.8/site-packages/IPython/extensions',\n",
       " '/Users/Jinyanting/.ipython']"
      ]
     },
     "execution_count": 2,
     "metadata": {},
     "output_type": "execute_result"
    }
   ],
   "source": [
    "sys.path"
   ]
  },
  {
   "cell_type": "code",
   "execution_count": null,
   "id": "chinese-mercy",
   "metadata": {},
   "outputs": [],
   "source": []
  }
 ],
 "metadata": {
  "kernelspec": {
   "display_name": "gynet",
   "language": "python",
   "name": "gynet"
  },
  "language_info": {
   "codemirror_mode": {
    "name": "ipython",
    "version": 3
   },
   "file_extension": ".py",
   "mimetype": "text/x-python",
   "name": "python",
   "nbconvert_exporter": "python",
   "pygments_lexer": "ipython3",
   "version": "3.7.9"
  }
 },
 "nbformat": 4,
 "nbformat_minor": 5
}
